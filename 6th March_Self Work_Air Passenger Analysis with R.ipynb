{
 "cells": [
  {
   "cell_type": "markdown",
   "metadata": {},
   "source": [
    "# Time Series Analysis and Modeling with the Air Passengers Dataset"
   ]
  },
  {
   "cell_type": "markdown",
   "metadata": {},
   "source": [
    "This objective of this analysis and modelling is to review time series theory and experiment with R packages.\n",
    "\n",
    "We will be following an ARIMA modeling procedure of the AirPassengers dataset as follows:\n",
    "1. Perform exploratory data analysis\n",
    "2. Decomposition of data\n",
    "3. Test the stationarity\n",
    "4. Fit a model used an automated algorithm\n",
    "5. Calculate forecasts\n",
    "\n",
    "Ref: http://rstudio-pubs-static.s3.amazonaws.com/311446_08b00d63cc794e158b1f4763eb70d43a.html\n",
    "        "
   ]
  },
  {
   "cell_type": "code",
   "execution_count": null,
   "metadata": {},
   "outputs": [],
   "source": []
  }
 ],
 "metadata": {
  "kernelspec": {
   "display_name": "Python 3",
   "language": "python",
   "name": "python3"
  },
  "language_info": {
   "codemirror_mode": {
    "name": "ipython",
    "version": 3
   },
   "file_extension": ".py",
   "mimetype": "text/x-python",
   "name": "python",
   "nbconvert_exporter": "python",
   "pygments_lexer": "ipython3",
   "version": "3.7.6"
  }
 },
 "nbformat": 4,
 "nbformat_minor": 4
}
